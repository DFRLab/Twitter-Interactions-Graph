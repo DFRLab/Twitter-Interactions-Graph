{
 "cells": [
  {
   "cell_type": "markdown",
   "metadata": {},
   "source": [
    "# Twitter Interactions Graph\n",
    "\n",
    "**Objective:** This notebook creates a csv representing the interactions between accounts. This csv can then be used in social network analysis software like Gephi. \n",
    "<br><br>\n",
    "Notably, this notebook uses the tweet content, rather than metadata, to determine the network. Specifically, if the first four characters of a tweet are \"RT @\" or \"QT @\", a directed edge from the tweet author to the mentioned author is created. However, there is no way of distinguishing whether a user simply began their tweet with \"RT\". This notebook is good for systems like Sysomos that allow researchers to download Twitter data but do not contain Tweet metadata that provides the metadata about retweeted or quoted tweets. \n",
    "\n",
    "**Prerequisites:** \n",
    "- In the same directory as this notebook, there must be a csv of the name provided that contains general Twitter data.\n",
    "\n",
    "**Outcomes:** After running this notebook, there should be an output csv containsing fields \"source\" and \"target\". The relationship between these elements is as follows: \"[source] retweeted or quoted [target].\" Thus, the graph is directed, where source -> target."
   ]
  },
  {
   "cell_type": "code",
   "execution_count": 1,
   "metadata": {
    "collapsed": true
   },
   "outputs": [],
   "source": [
    "# Pointer to file of interest\n",
    "filename = './file.csv'"
   ]
  },
  {
   "cell_type": "code",
   "execution_count": 2,
   "metadata": {
    "collapsed": true
   },
   "outputs": [],
   "source": [
    "# Imports of necessary libraries\n",
    "import pandas as pd\n",
    "import codecs\n",
    "import csv"
   ]
  },
  {
   "cell_type": "code",
   "execution_count": 3,
   "metadata": {
    "collapsed": false
   },
   "outputs": [
    {
     "name": "stdout",
     "output_type": "stream",
     "text": [
      "0\n",
      "5000\n",
      "10000\n",
      "15000\n",
      "20000\n",
      "25000\n"
     ]
    }
   ],
   "source": [
    "# Create graph\n",
    "\n",
    "# Open csv of focus\n",
    "with open(filename) as csvfile:\n",
    "    readCSV = csv.reader(csvfile, delimiter = ',')\n",
    "    \n",
    "    # Set up a counter to later update user on progress\n",
    "    count = 0\n",
    "    \n",
    "    # Instatiate for later use\n",
    "    userid1_index = 0\n",
    "    tweetcontent_index = 0\n",
    "    userid1 = []\n",
    "    userid2 = []\n",
    "    \n",
    "    # Check every row for interactions with the user\n",
    "    for row in readCSV:\n",
    "        \n",
    "        # Get the index of the columns of our interest\n",
    "        if(count == 0):\n",
    "            userid1_index = row.index('Author ID')\n",
    "            tweetcontent_index = row.index('Contents')\n",
    "        \n",
    "        else:\n",
    "            # Check if a RT or QT\n",
    "            if((row[tweetcontent_index][0:4] == 'RT @') or (row[tweetcontent_index][0:4] == 'QT @')):\n",
    "                # Add the username of account that did the RT or QT to the source array\n",
    "                userid1.append(row[userid1_index])\n",
    "                \n",
    "                # Add the username of account that was RT'd or QT'd to the target array\n",
    "                userid2.append(row[tweetcontent_index][4:row[tweetcontent_index].find(' ',4)-1])\n",
    "    \n",
    "        # Print count to update on progress\n",
    "        if(count % 5000 == 0):\n",
    "            print(count)\n",
    "            \n",
    "        count += 1\n",
    "    \n",
    "    df = pd.DataFrame.from_dict({'source': userid1,\n",
    "                                 'target': userid2})\n",
    "    "
   ]
  },
  {
   "cell_type": "code",
   "execution_count": 4,
   "metadata": {
    "collapsed": true
   },
   "outputs": [],
   "source": [
    "# Save to csv\n",
    "df.set_index('source').to_csv('user_graph.csv')"
   ]
  }
 ],
 "metadata": {
  "anaconda-cloud": {},
  "kernelspec": {
   "display_name": "Python [conda env:anaconda]",
   "language": "python",
   "name": "conda-env-anaconda-py"
  },
  "language_info": {
   "codemirror_mode": {
    "name": "ipython",
    "version": 3
   },
   "file_extension": ".py",
   "mimetype": "text/x-python",
   "name": "python",
   "nbconvert_exporter": "python",
   "pygments_lexer": "ipython3",
   "version": "3.5.2"
  }
 },
 "nbformat": 4,
 "nbformat_minor": 2
}
